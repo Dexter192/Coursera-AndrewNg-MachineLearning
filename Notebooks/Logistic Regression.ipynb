{
 "cells": [
  {
   "cell_type": "markdown",
   "metadata": {},
   "source": [
    "# Logistic Regression\n",
    "## Classification\n",
    "\n",
    "The main difference between linear and logistic regression is that the values $y$ which we predict are on a discrete space. \n",
    "Some simple examples where $y\\in\\{0,1\\}$ for classification are:\n",
    "- Email: 0=Not Spam/1=Spam \n",
    "- Transactions: Fraudulent (1=Yes/0=No)?\n",
    "- Tumor 0=Benign/1=Malignant?\n",
    "\n",
    "We will start by looking into a **binary classification** classification problem where y can only take on two values (0 and 1). Later we will look into **multi-class classification** where $y$ can take an arbitrary amount of discrete values."
   ]
  },
  {
   "cell_type": "code",
   "execution_count": 19,
   "metadata": {},
   "outputs": [],
   "source": [
    "import matplotlib.pyplot as plt\n",
    "import numpy as np\n",
    "from numpy.linalg import inv"
   ]
  },
  {
   "cell_type": "code",
   "execution_count": 20,
   "metadata": {},
   "outputs": [
    {
     "data": {
      "image/png": "[encoded data removed]",
      "text/plain": [
       "<Figure size 360x216 with 1 Axes>"
      ]
     },
     "metadata": {
      "needs_background": "light"
     },
     "output_type": "display_data"
    }
   ],
   "source": [
    "y = [0, 0, 0, 0, 1, 1, 1, 1]\n",
    "x = [0.1, 0.3, 0.6, 0.8, 1.2, 1.3, 1.6, 1.7]\n",
    "fig=plt.figure(figsize=(5,3))\n",
    "ax=fig.add_axes([0,0,1,1])\n",
    "ax.set_yticklabels([])\n",
    "ax.set_xticklabels([])\n",
    "ax.set_xlabel('Tumor Size')\n",
    "ax.set_ylabel('Malignant')\n",
    "ax.set_xlim([0,2])\n",
    "ax.set_ylim([-0.1,1.1])\n",
    "ax.annotate('(Yes) 1',xy=(0,0),xytext=(-0.15,0.99),annotation_clip=False)\n",
    "ax.annotate('(No) 0',xy=(0,0),xytext=(-0.15,-0.01),annotation_clip=False)\n",
    "ax.scatter(x, y, s=200, marker='x', color='r', linewidth=4)\n",
    "plt.show()"
   ]
  },
  {
   "cell_type": "markdown",
   "metadata": {},
   "source": [
    "If we use linear regression as we learned before, we would fit a line $h_{\\theta}(x) = \\theta^Tx$ through our plot. The following code block computes the optimal values for $\\theta$ using the normal equation. \n",
    "\\begin{align}\n",
    "\\theta = (X^TX)^{-1}X^Ty\n",
    "\\end{align}\n",
    "\n",
    "We can add a threshold and make classifications based on the predicted value.\n",
    "\\begin{align}\n",
    "\\text{If } h_\\theta(x) \\geq 0.5,\\text{ predict } y=1\\\\\n",
    "\\text{If } h_\\theta(x) < 0.5,\\text{ predict } y=0\n",
    "\\end{align}"
   ]
  },
  {
   "cell_type": "code",
   "execution_count": 21,
   "metadata": {},
   "outputs": [
    {
     "data": {
      "image/png": "[encoded data removed]",
      "text/plain": [
       "<Figure size 360x216 with 1 Axes>"
      ]
     },
     "execution_count": 21,
     "metadata": {},
     "output_type": "execute_result"
    }
   ],
   "source": [
    "X = np.array([np.ones(len(x)),x]).T\n",
    "theta = inv(X.T.dot(X)).dot((X.T.dot(y)))\n",
    "norm_x = [0,2]\n",
    "norm_y = theta.dot([np.ones(2),norm_x])\n",
    "ax.plot(norm_x, norm_y)\n",
    "ax.plot([0.95,0.95], [-0.2,1.2],linestyle='dashed')\n",
    "ax.annotate('Predict No',xy=(0,0),xytext=(0.65,0.5),annotation_clip=False)\n",
    "ax.annotate('Predict Yes',xy=(0,0),xytext=(1,0.5),annotation_clip=False)\n",
    "fig"
   ]
  },
  {
   "cell_type": "markdown",
   "metadata": {},
   "source": [
    "In the given example, linear regression would preform reasonably well on this classification task. However, if we add more outlier values to our example, we will quickly see that this method will not perform quite as well anymore.\n",
    "Let's add a positive value for $x=5$ to our training set:"
   ]
  },
  {
   "cell_type": "code",
   "execution_count": 22,
   "metadata": {},
   "outputs": [
    {
     "data": {
      "image/png": "[encoded data removed]",
      "text/plain": [
       "<Figure size 720x216 with 1 Axes>"
      ]
     },
     "metadata": {
      "needs_background": "light"
     },
     "output_type": "display_data"
    }
   ],
   "source": [
    "y_outlier = y + [1]\n",
    "x_outlier = np.append(np.array(x)/2,20)\n",
    "X = np.array([np.ones(len(x_outlier)),x_outlier]).T\n",
    "theta = inv(X.T.dot(X)).dot((X.T.dot(y_outlier)))\n",
    "norm_x = [0,5]\n",
    "norm_y = theta.dot([np.ones(2),norm_x])\n",
    "fig=plt.figure(figsize=(10,3))\n",
    "ax=fig.add_axes([0,0,1,1])\n",
    "ax.set_yticklabels([])\n",
    "ax.set_xticklabels([])\n",
    "ax.set_xlim([0,2])\n",
    "ax.set_ylim([-0.1,1.1])\n",
    "ax.set_xlabel('Tumor Size')\n",
    "ax.set_ylabel('Malignant')\n",
    "ax.annotate('(Yes) 1',xy=(0,0),xytext=(-0.1,0.99),annotation_clip=False)\n",
    "ax.annotate('(No) 0',xy=(0,0),xytext=(-0.1,-0.01),annotation_clip=False)\n",
    "#For visualization puropses I will move the outlier closer than it is\n",
    "x_outlier[-1] = 1.97\n",
    "ax.scatter(x_outlier, y_outlier, s=200, marker='x', color='r', linewidth=4)\n",
    "ax.plot([0.67,0.67], [-0.2,1.2],linestyle='dashed')\n",
    "ax.annotate('Predict No',xy=(0,0),xytext=(0.5,0.5),annotation_clip=False)\n",
    "ax.annotate('Predict Yes',xy=(0,0),xytext=(0.69,0.5),annotation_clip=False)\n",
    "ax.plot(norm_x, norm_y)\n",
    "plt.show()"
   ]
  },
  {
   "cell_type": "markdown",
   "metadata": {},
   "source": [
    "We can observe that with such an outlier, our regression line will shift and with the new datapoint, we might create wrong predictions. For the algorithm, it should be no surprise that the outlier is a positive point. However, it should also not have such a big effect on the other training samples.\n",
    "\n",
    "This should show that linear regression is not very suitable for classification problems. Mainly because classification is not actually a linear function.\n",
    "\n",
    "Another observation that we can make is that our algorithm can output values which exceed the limit of $0<y<1$ (see first example). The algorithm should not be able to predict such predictions.\n",
    "\n",
    "For the **logistic regression** classification algorithm, we have:\n",
    "\\begin{align}\n",
    "0 \\leq h_\\theta(x) \\leq 1\n",
    "\\end{align}"
   ]
  },
  {
   "cell_type": "markdown",
   "metadata": {},
   "source": [
    "### Hypothesis function\n",
    "\n",
    "How can we come up with a hypothesis function that satisfies $0 \\leq h_\\theta(x) \\leq 1$?\n",
    "\n",
    "We will obtain this by wrapping our predictions with the **Sigmoid function** (alternatively Logistic function): $h_\\theta(x) = \n",
    "g(\\theta^Tx)$\n",
    "\n",
    "The Sigmoid function essentially maps any value $z \\in \\mathbb{R}$ in the range (0,1)\n",
    "\\begin{align}\n",
    "g(z) = \\frac{1}{1+e^{-\\theta^Tx}}\n",
    "\\end{align}\n",
    "\n",
    "![Sigmoid](../data/week2/Sigmoid.png)\n",
    "\n",
    "We treat the output $h_\\theta(x)$ as the estimated probability that y=1 on input x\n",
    "Looking at the tumor example from above. Say that for a given tumor size, the hypothesis is $h_\\theta(x)=0.7$. In words that means that there is a 70% chance that the tumor is being malignant.\n",
    "\n",
    "In terms of probabilities, we write $h_\\theta(x) = p(y=1|x;\\theta)$ = \"probability that y=1, given x, parameterized by $\\theta$\". We can compute the probabilities for y=1 and y=0 \n",
    "\n",
    "$P(y=0|x;\\theta)+P(y=1|x;\\theta)=1$\n",
    "\n",
    "$P(y=0|x;\\theta) = 1 - P(y=1|x;\\theta)$\n"
   ]
  },
  {
   "cell_type": "markdown",
   "metadata": {},
   "source": [
    "## Decision boundaries\n",
    "\n",
    "Suppose we want to predict that \"y=1\" if $h_\\theta(x) \\geq 0.5$ and predict that \"y=0\" if $h_\\theta(x) < 0.5$. Then our decision boundary would be at 0.5.\n",
    "\n",
    "Looking at the Sigmoid function, we can see that $g(z) \\geq 0.5 \\text{ when } z \\geq 0$ and therefore $h_\\theta(x) = g(\\theta^Tx) \\geq 0.5 \\text{ whenever } \\theta^Tx \\geq 0$.\n",
    "\n",
    "Likewise we have that $g(z) \\leq 0.5 \\text{ when } z \\leq 0$ and therefore $h_\\theta(x) = g(\\theta^Tx) \\leq 0.5 \\text{ whenever } \\theta^Tx \\leq 0$.\n",
    "\n",
    "**Example**\n",
    "![Classification Dataset](../data/week2/Classification_Dataset.png)\n",
    "Let's take the following hypothesis function $h_\\theta(x) = g(\\theta_0 + \\theta_1x_1 + \\theta_2x_2)$ and for the sake of demonstration, we will specify $\\theta = [-3,1,1]^T$ (we will discuss later how we can compute $\\theta$).\n",
    "From what we learned above, we know that we predict $y=1$ if \n",
    "\\begin{align}\n",
    "g(\\theta^Tx)\\geq0 \\iff -3 + x_1 + x_2 \\geq 0 \\iff x_1 + x_2 \\geq 3\n",
    "\\end{align}\n",
    "\n",
    "This results in a line which clearly separates the two classes. These two classes are separated by our **decision boundary** (pink line). The boundary is a property of our hypothesis function, not the data set.\n",
    "When we learn how to fit the parameters, we will use training data to determine the data of $\\theta$ but once we have the parameters, we don't need a dataset to compute the decision boundary."
   ]
  },
  {
   "cell_type": "markdown",
   "metadata": {},
   "source": [
    "![Sigmoid](../data/week2/Classification_Dataset_Split.png)"
   ]
  },
  {
   "cell_type": "markdown",
   "metadata": {},
   "source": [
    "**Non-linear decision boundaries**\n",
    "\n",
    "If we have data which we can not linearly separate, we can have features which allow for non-linear separation: \n",
    "Consider the hypothesis $h_\\theta(x) = g(\\theta_0 + \\theta_1x_1 + \\theta_2x_1 + \\theta_3x^2_1 + \\theta_4x^2_2$ and parameter vector $\\theta = [-1, 0, 0, 1, 1]^T$\n",
    "\n",
    "We predict y=1, when $-1 + x^2_1 + x^2_2 \\geq 0$. This will give us the decision boundary of a circle. \n",
    "\n",
    "Note that with a higher order hypothesis function, we can build more complex shapes of decision boundaries.\n",
    "\n",
    "![Nonlinear Classification](../data/week2/Classification_Dataset_Nonlinear.png)"
   ]
  },
  {
   "cell_type": "markdown",
   "metadata": {},
   "source": [
    "## Cost function\n",
    "\n",
    "In general, we have:\n",
    "\n",
    "- Training set: $\\{(x^{(1)},y^{(1)}),(x^{(2)},y^{(2)}), \\dots, (x^{(m)},y^{(m)})\\}$\n",
    "- m examples $x \\in [x_0, x_1, \\dots, x_n]^T$, where $x_0 = 1, y\\in \\{0,1\\}$\n",
    "- $h_\\theta(x) = \\frac{1}{1+e^{-\\theta^Tx}}$\n",
    "\n",
    "How do we choose the parameters $\\theta$.\n",
    "Recall that from Linear regression, we had: $J(\\theta) = \\frac{1}{m}\\sum^{m}_{i=1} \\frac{1}{2} (h_\\theta(x^{(i)})-y^{(i)})^2 $\n",
    "\n",
    "For Logistic regression, the term in the sum is (due to the Sigmoid function) a non-convex term. Therefore, our gradient descent algorithm would not work and get stuck in a local minimum. Thus we need to come up with a new cost function for logistic regression. \n",
    "\n",
    "We will use this function: \n",
    "\\begin{align}\n",
    "Cost(h_\\theta(x),y) = \\begin{cases}\n",
    "               -log(h_\\theta(x)) \\hspace{2.7em}\\text{if y=1}\\\\\n",
    "               -log(1- h_\\theta(x)) \\hspace{1em}\\text{ if y=0}\\\\\n",
    "            \\end{cases}\n",
    "\\end{align}\n",
    "\n",
    "Let's visualize the functions for these two cases:"
   ]
  },
  {
   "cell_type": "code",
   "execution_count": 23,
   "metadata": {},
   "outputs": [
    {
     "data": {
      "text/plain": [
       "Text(0.5, 1.0, 'If y = 0')"
      ]
     },
     "execution_count": 23,
     "metadata": {},
     "output_type": "execute_result"
    },
    {
     "data": {
      "image/png": "[encoded data removed]",
      "text/plain": [
       "<Figure size 720x360 with 2 Axes>"
      ]
     },
     "metadata": {
      "needs_background": "light"
     },
     "output_type": "display_data"
    }
   ],
   "source": [
    "x = np.linspace(0,1,100)\n",
    "y0 = -np.log(x[1:-1])\n",
    "y1 = -np.log(1- x[1:-1])\n",
    "\n",
    "fig, (Y0, Y1) = plt.subplots(1, 2, figsize=(10,5))\n",
    "Y0.plot(x[1:-1], y0, linestyle='solid')\n",
    "Y0.set_xlabel(r'$h_\\theta(x)$')\n",
    "Y0.set_xlim(0, 1)\n",
    "Y0.set_ylabel('Cost', rotation=0)\n",
    "Y0.set_title(\"If y = 1\")\n",
    "\n",
    "Y1.plot(x[1:-1], y1, linestyle='solid')\n",
    "Y1.set_xlabel(r'$h_\\theta(x)$')\n",
    "Y1.set_xlim(0, 1)\n",
    "Y1.set_ylabel('Cost', rotation=0)\n",
    "Y1.set_title(\"If y = 0\")"
   ]
  },
  {
   "cell_type": "markdown",
   "metadata": {},
   "source": [
    "This cost function has a few properties. \n",
    "- It is convex\n",
    "- It is intuitive in terms of \"the further away we are from predicting correctly, the higher the cost\"\n",
    "- If we predict correctly, then the cost is 0\n",
    "\n",
    "Since y is always either 0 or 1, we can simplify the cost function as:\n",
    "\\begin{align}\n",
    "Cost = -ylog(h_\\theta(x)) - (1-y)log(1- h_\\theta(x))\n",
    "\\end{align}\n",
    "\n",
    "Our complete cost function is the **principle maximum (log-)likelyhood** which we could derive from statistics:\n",
    "\n",
    "\\begin{align}\n",
    "J(\\theta) = -\\frac{1}{m}\\sum^{m}_{i=1} \\{ylog(h_\\theta(x)) + (1-y)log(1- h_\\theta(x))\\}\n",
    "\\end{align}\n",
    "\n",
    "We can find our parameters $\\theta$ again, using Gradient Descent. It turns out that the update rule is identical to Linear Regression.\n",
    "\n",
    "$\n",
    "\\text{Want } min_\\theta J(\\theta):\\\\\n",
    "\\hspace{1em} \\text{Repeat}\\{\\\\\n",
    "\\hspace{2em} \\theta_j := \\theta_j - \\alpha\\frac{\\Delta}{\\Delta\\theta_j}J(\\theta) \\iff  \\frac{1}{m} \\sum^{m}_{i=1}(h_\\theta(x^{(i)}-y^{(i)})x_j^{(i)}\\\\\n",
    "\\}\n",
    "$\n",
    "\n",
    "The only difference is that the hypothesis now has changed to $h_\\theta(x) = \\frac{1}{1+e^-\\theta^Tx}$\n",
    "\n",
    "Just as with Linear regression, we can a'lso implement this in a vectorized manner:\n",
    "\\begin{align}\n",
    "  \\theta := \\theta -\\frac{\\alpha}{m}X^T(g(X\\theta) - y)\n",
    "\\end{align}\n",
    "\n",
    "## Example\n",
    "\n",
    "First we generate a set of datapoints with two classes which we want to separate. We want to find a linear decision boundary to separate these two classes."
   ]
  },
  {
   "cell_type": "code",
   "execution_count": 24,
   "metadata": {},
   "outputs": [
    {
     "data": {
      "image/png": "[encoded data removed]",
      "text/plain": [
       "<Figure size 432x288 with 1 Axes>"
      ]
     },
     "metadata": {
      "needs_background": "light"
     },
     "output_type": "display_data"
    }
   ],
   "source": [
    "from sklearn.datasets import make_blobs\n",
    "import matplotlib.pyplot as plt\n",
    "\n",
    "x, y = make_blobs(n_samples=200, centers=2, n_features=2,random_state=4)\n",
    "\n",
    "label = ['red','green']\n",
    "fig, ax = plt.subplots()\n",
    "ax.scatter(x[:,0], x[:,1], c=y, marker='+',s=50)\n",
    "ax.set_xlabel('x')\n",
    "ax.set_ylabel('y')\n",
    "plt.show()"
   ]
  },
  {
   "cell_type": "markdown",
   "metadata": {},
   "source": [
    "Next, we want to define our Logistic regression model. We want to predict class y, given the x and y position of a point. Thus our hypothesis function looks like this:\n",
    "\n",
    "\\begin{align}\n",
    "h_\\theta(x) &= \\theta_0 + \\theta_0x_1 + \\theta_2x_2\\\\\n",
    "h_\\theta(x) &= \\theta_0x_0 + \\theta_0x_1 + \\theta_2x_2 \\text{ where } x_0 = 1\n",
    "\\end{align}\n",
    "\n",
    "I think this implementation has some issues since it will start to jitter and diverge after converging if we try to classify non-linear separable data. In fact we are then underfitting our data which means that we have a high bias. If we would add quadratic features ($x_1^2$), then our fit could be better."
   ]
  },
  {
   "cell_type": "code",
   "execution_count": 25,
   "metadata": {},
   "outputs": [],
   "source": [
    "class Logistic_Regression(object):\n",
    "    def __init__(self, x, y):\n",
    "        np.random.seed(0)\n",
    "        self.alpha = 1\n",
    "        #Create a bias vector (actually a matrix with one more column than x)\n",
    "        x_with_bias = np.ones((x.shape[0],x.shape[1]+1))\n",
    "        #Mean normalize our features\n",
    "        x = (x - x.mean(axis=0))/(x.max(axis=0)/x.min(axis=0))\n",
    "        #Keep the first column but replace the rest with the values of x\n",
    "        x_with_bias[:,1:3] = x\n",
    "        \"\"\"We can add more features very easily. We just have to increase the size of the theta vector and x matrix. \n",
    "           Note to get the decision boundary visualized correctly, we have to update h(x)>0 and solve for y\n",
    "           x_with_bias[:,-1] = x[:,0]**2\n",
    "        \"\"\"\n",
    "        self.x = x_with_bias\n",
    "        self.y = y\n",
    "        self.theta = np.random.normal(size=(1, x_with_bias.shape[1]))\n",
    "        self.y_hat = [self.get_prediction(-1)]\n",
    "        self.cost = [self.get_error(-1)]\n",
    "        \n",
    "    def get_decision_boundary(self,i):\n",
    "        #Compute two points for the decision boundary. We solve g(h(thetaX)) > 0. \n",
    "        #Since our decision boundary is linear, this is easy\n",
    "        x = np.linspace(-1, 1, 100, endpoint=True)\n",
    "        y = (-self.theta[i][0]-self.theta[i][1]*x)/self.theta[i][2] \n",
    "        return x,y\n",
    "    \n",
    "    def get_error(self, i):\n",
    "        #Get predictions\n",
    "        y_hat = self.get_prediction(i)\n",
    "        #Compute cost\n",
    "        return -np.sum(y*np.log(y_hat+0.000001) + (1-y)*np.log(1-y_hat+0.00001))/(len(y_hat))\n",
    "        \n",
    "    def get_prediction(self, i):\n",
    "        #Compute h(thetaX) and then plug it into the sigmoid function g(z)\n",
    "        h = self.theta[i].dot(self.x.transpose())\n",
    "        return self.sigmoid(h)\n",
    "\n",
    "    def sigmoid(self, x):\n",
    "        sig = 1 / (1 +  np.exp(-x))\n",
    "        return sig\n",
    "        \n",
    "    def update_thetas(self):\n",
    "        #Compute the predictions with the current thetas\n",
    "        self.y_hat = np.append(self.y_hat,[self.get_prediction(-1)],axis=0)\n",
    "        #Calculate the new theta\n",
    "        new_theta = self.theta[-1] - (self.alpha/len(y)) * self.x.transpose().dot((self.y_hat[-1]-self.y))\n",
    "        #Append result to the thetas\n",
    "        self.theta = np.append(self.theta,[new_theta], axis=0)\n",
    "        #Calculate cost\n",
    "        self.cost = np.append(self.cost, self.get_error(-1))"
   ]
  },
  {
   "cell_type": "code",
   "execution_count": 27,
   "metadata": {
    "scrolled": true
   },
   "outputs": [
    {
     "name": "stdout",
     "output_type": "stream",
     "text": [
      "Plotting animation\n"
     ]
    },
    {
     "ename": "RuntimeError",
     "evalue": "Requested MovieWriter (ffmpeg) not available",
     "output_type": "error",
     "traceback": [
      "\u001b[0;31m---------------------------------------------------------------------------\u001b[0m",
      "\u001b[0;31mRuntimeError\u001b[0m                              Traceback (most recent call last)",
      "\u001b[0;32m/tmp/ipykernel_98018/1550970320.py\u001b[0m in \u001b[0;36m<module>\u001b[0;34m\u001b[0m\n\u001b[1;32m     59\u001b[0m \u001b[0;34m\u001b[0m\u001b[0m\n\u001b[1;32m     60\u001b[0m     \u001b[0mdisplay\u001b[0m\u001b[0;34m(\u001b[0m\u001b[0mHTML\u001b[0m\u001b[0;34m(\u001b[0m\u001b[0manim\u001b[0m\u001b[0;34m.\u001b[0m\u001b[0mto_html5_video\u001b[0m\u001b[0;34m(\u001b[0m\u001b[0;34m)\u001b[0m\u001b[0;34m)\u001b[0m\u001b[0;34m)\u001b[0m\u001b[0;34m\u001b[0m\u001b[0;34m\u001b[0m\u001b[0m\n\u001b[0;32m---> 61\u001b[0;31m \u001b[0mtest\u001b[0m\u001b[0;34m(\u001b[0m\u001b[0;34m)\u001b[0m\u001b[0;34m\u001b[0m\u001b[0;34m\u001b[0m\u001b[0m\n\u001b[0m\u001b[1;32m     62\u001b[0m \u001b[0;31m#except:\u001b[0m\u001b[0;34m\u001b[0m\u001b[0;34m\u001b[0m\u001b[0m\n\u001b[1;32m     63\u001b[0m \u001b[0;31m#    print(\"Cannot load animation. Loading gif instead\")\u001b[0m\u001b[0;34m\u001b[0m\u001b[0;34m\u001b[0m\u001b[0m\n",
      "\u001b[0;32m/tmp/ipykernel_98018/1550970320.py\u001b[0m in \u001b[0;36mtest\u001b[0;34m()\u001b[0m\n\u001b[1;32m     58\u001b[0m     \u001b[0;31m#anim.save(\"../data/week1/figures/logistic_regression.gif\", writer=animation.PillowWriter(fps=30))\u001b[0m\u001b[0;34m\u001b[0m\u001b[0;34m\u001b[0m\u001b[0m\n\u001b[1;32m     59\u001b[0m \u001b[0;34m\u001b[0m\u001b[0m\n\u001b[0;32m---> 60\u001b[0;31m     \u001b[0mdisplay\u001b[0m\u001b[0;34m(\u001b[0m\u001b[0mHTML\u001b[0m\u001b[0;34m(\u001b[0m\u001b[0manim\u001b[0m\u001b[0;34m.\u001b[0m\u001b[0mto_html5_video\u001b[0m\u001b[0;34m(\u001b[0m\u001b[0;34m)\u001b[0m\u001b[0;34m)\u001b[0m\u001b[0;34m)\u001b[0m\u001b[0;34m\u001b[0m\u001b[0;34m\u001b[0m\u001b[0m\n\u001b[0m\u001b[1;32m     61\u001b[0m \u001b[0mtest\u001b[0m\u001b[0;34m(\u001b[0m\u001b[0;34m)\u001b[0m\u001b[0;34m\u001b[0m\u001b[0;34m\u001b[0m\u001b[0m\n\u001b[1;32m     62\u001b[0m \u001b[0;31m#except:\u001b[0m\u001b[0;34m\u001b[0m\u001b[0;34m\u001b[0m\u001b[0m\n",
      "\u001b[0;32m~/anaconda3/lib/python3.9/site-packages/matplotlib/animation.py\u001b[0m in \u001b[0;36mto_html5_video\u001b[0;34m(self, embed_limit)\u001b[0m\n\u001b[1;32m   1346\u001b[0m                 \u001b[0;31m# We create a writer manually so that we can get the\u001b[0m\u001b[0;34m\u001b[0m\u001b[0;34m\u001b[0m\u001b[0m\n\u001b[1;32m   1347\u001b[0m                 \u001b[0;31m# appropriate size for the tag\u001b[0m\u001b[0;34m\u001b[0m\u001b[0;34m\u001b[0m\u001b[0m\n\u001b[0;32m-> 1348\u001b[0;31m                 \u001b[0mWriter\u001b[0m \u001b[0;34m=\u001b[0m \u001b[0mwriters\u001b[0m\u001b[0;34m[\u001b[0m\u001b[0mmpl\u001b[0m\u001b[0;34m.\u001b[0m\u001b[0mrcParams\u001b[0m\u001b[0;34m[\u001b[0m\u001b[0;34m'animation.writer'\u001b[0m\u001b[0;34m]\u001b[0m\u001b[0;34m]\u001b[0m\u001b[0;34m\u001b[0m\u001b[0;34m\u001b[0m\u001b[0m\n\u001b[0m\u001b[1;32m   1349\u001b[0m                 writer = Writer(codec='h264',\n\u001b[1;32m   1350\u001b[0m                                 \u001b[0mbitrate\u001b[0m\u001b[0;34m=\u001b[0m\u001b[0mmpl\u001b[0m\u001b[0;34m.\u001b[0m\u001b[0mrcParams\u001b[0m\u001b[0;34m[\u001b[0m\u001b[0;34m'animation.bitrate'\u001b[0m\u001b[0;34m]\u001b[0m\u001b[0;34m,\u001b[0m\u001b[0;34m\u001b[0m\u001b[0;34m\u001b[0m\u001b[0m\n",
      "\u001b[0;32m~/anaconda3/lib/python3.9/site-packages/matplotlib/animation.py\u001b[0m in \u001b[0;36m__getitem__\u001b[0;34m(self, name)\u001b[0m\n\u001b[1;32m    149\u001b[0m         \u001b[0;32mif\u001b[0m \u001b[0mself\u001b[0m\u001b[0;34m.\u001b[0m\u001b[0mis_available\u001b[0m\u001b[0;34m(\u001b[0m\u001b[0mname\u001b[0m\u001b[0;34m)\u001b[0m\u001b[0;34m:\u001b[0m\u001b[0;34m\u001b[0m\u001b[0;34m\u001b[0m\u001b[0m\n\u001b[1;32m    150\u001b[0m             \u001b[0;32mreturn\u001b[0m \u001b[0mself\u001b[0m\u001b[0;34m.\u001b[0m\u001b[0m_registered\u001b[0m\u001b[0;34m[\u001b[0m\u001b[0mname\u001b[0m\u001b[0;34m]\u001b[0m\u001b[0;34m\u001b[0m\u001b[0;34m\u001b[0m\u001b[0m\n\u001b[0;32m--> 151\u001b[0;31m         \u001b[0;32mraise\u001b[0m \u001b[0mRuntimeError\u001b[0m\u001b[0;34m(\u001b[0m\u001b[0;34mf\"Requested MovieWriter ({name}) not available\"\u001b[0m\u001b[0;34m)\u001b[0m\u001b[0;34m\u001b[0m\u001b[0;34m\u001b[0m\u001b[0m\n\u001b[0m\u001b[1;32m    152\u001b[0m \u001b[0;34m\u001b[0m\u001b[0m\n\u001b[1;32m    153\u001b[0m \u001b[0;34m\u001b[0m\u001b[0m\n",
      "\u001b[0;31mRuntimeError\u001b[0m: Requested MovieWriter (ffmpeg) not available"
     ]
    }
   ],
   "source": [
    "from matplotlib import animation\n",
    "from IPython.display import HTML\n",
    "\n",
    "#try:\n",
    "def test():\n",
    "    log_reg = Logistic_Regression(x,y)\n",
    "    #log_reg.update_thetas()\n",
    "    fig, (r, h, J) = plt.subplots(1, 3, figsize=(11,5))\n",
    "\n",
    "    r.scatter(log_reg.x[:,1], log_reg.x[:,2], c=y, marker='+',s=50)\n",
    "    r.set_xlabel('x')\n",
    "    r.set_ylabel('y')\n",
    "    #Since we normalized our datapoints, we can restrict the plot to [-1,1]\n",
    "    r.set_xlim(-1, 1)\n",
    "    r.set_ylim(-1, 1)\n",
    "\n",
    "    boundary_x,boundary_y = log_reg.get_decision_boundary(-1)\n",
    "    line, = h.plot(boundary_x,boundary_y, lw=2)\n",
    "    scat1 = h.scatter(log_reg.x[:,1], log_reg.x[:,2], c=np.rint(log_reg.y), marker='+',s=50)\n",
    "    h.set_xlabel('x')\n",
    "    h.set_ylabel('y', rotation=0)\n",
    "    h.set_title(\"Class prediction\")\n",
    "    h.set_xlim(-1, 1)\n",
    "    h.set_ylim(-1, 1)\n",
    "\n",
    "    scat = J.scatter([0],[log_reg.get_error(-1)], color='r', marker='+')\n",
    "    line1, = J.plot([0],[log_reg.get_error(-1)], lw=2)\n",
    "    J.set_title(\"Cost after n iterations\")\n",
    "\n",
    "    #Perform gradient descent to find the best fit until our error is less than 0.001\n",
    "    for i in range(1,50):\n",
    "        log_reg.update_thetas()\n",
    "\n",
    "    scat1 = h.scatter(log_reg.x[:,1], log_reg.x[:,2], c=np.rint(log_reg.y_hat[-1]), marker='+',s=50)\n",
    "    J.set_xlim(0,len(log_reg.theta)-1)\n",
    "    J.set_ylim(0,max(log_reg.cost))\n",
    "\n",
    "    print('Plotting animation')\n",
    "    # initialization function: plot the background of each frame\n",
    "    def init():\n",
    "        return line, scat1\n",
    "    colours = ['red', 'blue']\n",
    "    # animation function.  This is called sequentially\n",
    "    def animate(i):\n",
    "        scat.set_offsets(np.c_[i, log_reg.cost[i]])\n",
    "        line1.set_data(range(0,i+1), log_reg.cost[:i+1])\n",
    "\n",
    "        x1,y1 = log_reg.get_decision_boundary(i)\n",
    "        line.set_data(x1,y1)\n",
    "        scat1.set_array(np.rint(log_reg.y_hat[i+1]))\n",
    "        return line, scat1\n",
    "\n",
    "    anim = animation.FuncAnimation(fig, animate, init_func=init,frames=len(log_reg.theta)-1\n",
    "                                   , interval=100, blit=True)\n",
    "\n",
    "    plt.close(anim._fig)\n",
    "\n",
    "    #anim.save(\"../data/week1/figures/logistic_regression.gif\", writer=animation.PillowWriter(fps=30))\n",
    "\n",
    "    display(HTML(anim.to_html5_video()))\n",
    "test()\n",
    "#except:\n",
    "#    print(\"Cannot load animation. Loading gif instead\")\n",
    "#    display(HTML('<img src=\"../data/week1/figures/logistic_regression.gif\">'))\n"
   ]
  },
  {
   "cell_type": "markdown",
   "metadata": {},
   "source": [
    "We can use different, more sophisticated algorithms to solve our Logistic Regression problems. Those are out of the scope and would belong into a numerical computing course:\n",
    "- Gradient descent\n",
    "- Conjugate gradient\n",
    "- BFGS\n",
    "- L-BFGS\n",
    "\n",
    "These algorithms have the advantage that they are often faster than gradient descent, converge faster and we don't need to pick the learning rate manually. However, the disadvantage of those is that they are more complex. \n",
    "\n"
   ]
  },
  {
   "cell_type": "markdown",
   "metadata": {},
   "source": [
    "## Multiclass classification\n",
    "\n",
    "Instead of predicting just 0/1, we would like to predict a set of different classes.\n",
    "E.g. Email tagging: y=0 work, y=1 friends, y=2 family, etc.\n",
    "\n",
    "We will use **one-vs-all** classification. \n",
    "If we have 3 classes y = [1,2,3], we will transform our problem into three binary classification problems. \n",
    "In the first set, we will simply merge classes 2 and 3 and will then perform binary classification on [1,(2,3)]\n",
    "We do the same thing for class 2: Merge 1 and 3 and perform binary classification on [2,(1,3)]\n",
    "Also for the third case, we will perform binary classification: Merge 1 and 2 and perform binary classification on [3,(1,2)]\n",
    "\n",
    "For each of the binary classification problems we will obtain probabilities for $P(y=i|x;\\theta)$ for i=1,2,3. In order to predict y, we will simply pick the highest probability among the three classes. \n",
    "![Nonlinear Classification](../data/week2/One_Vs_All.png)"
   ]
  },
  {
   "cell_type": "markdown",
   "metadata": {},
   "source": [
    "## Regularization\n",
    "\n",
    "**Underfitting** \n",
    "Degree of our hypothesis function is too low and thus we obtain a poor fit\n",
    "\n",
    "**Overfitting**\n",
    "Degree of our hypothesis function is too high. Our algorithm performs well on the training set but will likely perform very poor on unseen training examples.\n",
    "\n",
    "How can we see that we over/underfit if we cannot plot our hypothesis function?\n",
    "\n",
    "We can address overfitting by reducing the number of features. This can be done either \n",
    "- Manually by selecting important features\n",
    "- Using selection algorithms (e.g. PCA)\n",
    "The disadvantage of reducing the features, we throw away important information. \n",
    "\n",
    "Alternatively, we can use **regularization**\n",
    "\n",
    "Regularization keeps all features but reduces the magnitude/values of our parameters $\\theta$ (e.g. $L_1$-regularization).\n",
    "\n",
    "We change our cost function:\n",
    "\\begin{align}\n",
    "J(\\theta) = -\\frac{1}{2m}\\sum^{m}_{i=1} (h_\\theta(x^{(i)})-y^{(i)}) + \\lambda \\sum^{n}_{j=1} \\theta_j^2\n",
    "\\end{align}\n",
    "\n",
    "Smaller values for our $\\theta$ parameters usually correspond with a simpler hypothesis which makes the hypothesis less prone to overfitting. If we choose $\\lambda$ too large, we will fail to even fit our training data. That is because we penalize even the smallest $\\theta$. Therefore, setting all $\\theta_j=0$ results in a lower cost function than fitting the training data with good $\\theta$ values.\n",
    "\n",
    "## Regularized Parameter updates\n",
    "### Linear regression - Gradient Descent\n",
    "How do we have to update our gradient descent if we use regularization?\n",
    "All we need to do is recompute the partial derivative for $J(\\theta)$ and we get:\n",
    "\\begin{align}\n",
    "\\theta_j := \\theta_j - \\frac{\\alpha}{m}\\sum^{m}_{i=1} &(h_\\theta(x^{(i)})-y^{(i)})x_j^{(i)} + \\frac{\\lambda}{m}\\theta_j\\\\\n",
    "&\\iff\\\\\n",
    "\\theta_j := \\theta_j(1-\\alpha\\frac{\\lambda}{m}) - &\\frac{\\alpha}{m}\\sum^{m}_{i=1} (h_\\theta(x^{(i)})-y^{(i)})x^{(i)}\n",
    "\\end{align}\n",
    "\n",
    "We treat $\\theta_0$ as before and don't change the update rule.\n",
    "\n",
    "### Linear regression - Normal Equation with regularization\n",
    "\\begin{align*}& \\theta = \\left( X^TX + \\lambda \\cdot L \\right)^{-1} X^Ty \\newline& \\text{where}\\ \\ L = \\begin{bmatrix} 0 & & & & \\newline & 1 & & & \\newline & & 1 & & \\newline & & & \\ddots & \\newline & & & & 1 \\newline\\end{bmatrix}\\end{align*}\n",
    "\n",
    "### Logistic Regression - Gradient Descent\n",
    "\n",
    "For the cost function, we simply add regularization like we did with Linear Regression. Likewise, it will help us to prevent overfitting. \n",
    "\n",
    "\\begin{align}\n",
    "J(\\theta) = -\\frac{1}{m}\\sum^{m}_{i=1} \\{ylog(h_\\theta(x)) + (1-y)log(1- h_\\theta(x))\\} + \\frac{\\lambda}{m}\\sum^{n}_{i=1}\\theta_j^2\n",
    "\\end{align}\n",
    "\n",
    "Our update function looks like this:\n",
    "\n",
    "$\n",
    "\\text{Repeat}\\{\\\\\n",
    "\\hspace{2em} \\theta_j := \\theta_j - \\alpha\\frac{\\Delta}{\\Delta\\theta_j}J(\\theta) \\iff  \\frac{1}{m} \\sum^{n}_{i=1}(h_\\theta(x^{(i)}-y^{(i)})x_j^{(i)} + \\frac{\\lambda}{m}\\theta_j\\\\\n",
    "\\}\n",
    "$\n",
    "\n",
    "Again, we treat $\\theta_0$ as before and don't change the update rule.\n",
    "\n",
    "## End Logistic Regression\n"
   ]
  },
  {
   "cell_type": "code",
   "execution_count": null,
   "metadata": {},
   "outputs": [],
   "source": []
  }
 ],
 "metadata": {
  "kernelspec": {
   "display_name": "Python 3 (ipykernel)",
   "language": "python",
   "name": "python3"
  },
  "language_info": {
   "codemirror_mode": {
    "name": "ipython",
    "version": 3
   },
   "file_extension": ".py",
   "mimetype": "text/x-python",
   "name": "python",
   "nbconvert_exporter": "python",
   "pygments_lexer": "ipython3",
   "version": "3.9.7"
  }
 },
 "nbformat": 4,
 "nbformat_minor": 4
}
